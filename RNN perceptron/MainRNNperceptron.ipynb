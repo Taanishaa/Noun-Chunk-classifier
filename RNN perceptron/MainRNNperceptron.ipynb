{
 "cells": [
  {
   "cell_type": "code",
   "execution_count": 196,
   "id": "210e9ead",
   "metadata": {},
   "outputs": [],
   "source": [
    "import numpy as np\n",
    "import pandas as pd\n",
    "import json\n",
    "import matplotlib.pyplot as plt "
   ]
  },
  {
   "cell_type": "code",
   "execution_count": 197,
   "id": "d154f6fc",
   "metadata": {},
   "outputs": [],
   "source": [
    "def jsonreader(path):\n",
    "    data = []\n",
    "    with open(path, 'r') as file:\n",
    "        for line in file:\n",
    "            data.append(json.loads(line))\n",
    "\n",
    "    # Convert to DataFrame\n",
    "    df = pd.DataFrame(data)\n",
    "\n",
    "    # Display the DataFrame\n",
    "    return (df)"
   ]
  },
  {
   "cell_type": "code",
   "execution_count": 198,
   "id": "531d753b",
   "metadata": {},
   "outputs": [],
   "source": [
    "dftest=jsonreader(r\"C:\\Users\\tanis\\Desktop\\Palindrome Checker\\assignment2\\test.jsonl\")\n",
    "dftrain=jsonreader(r\"C:\\Users\\tanis\\Desktop\\Palindrome Checker\\assignment2\\train.jsonl\")"
   ]
  },
  {
   "cell_type": "code",
   "execution_count": 283,
   "id": "9a261c1e",
   "metadata": {},
   "outputs": [
    {
     "data": {
      "text/html": [
       "<div>\n",
       "<style scoped>\n",
       "    .dataframe tbody tr th:only-of-type {\n",
       "        vertical-align: middle;\n",
       "    }\n",
       "\n",
       "    .dataframe tbody tr th {\n",
       "        vertical-align: top;\n",
       "    }\n",
       "\n",
       "    .dataframe thead th {\n",
       "        text-align: right;\n",
       "    }\n",
       "</style>\n",
       "<table border=\"1\" class=\"dataframe\">\n",
       "  <thead>\n",
       "    <tr style=\"text-align: right;\">\n",
       "      <th></th>\n",
       "      <th>tokens</th>\n",
       "      <th>chunk_tags</th>\n",
       "      <th>pos_tags</th>\n",
       "      <th>pos_tags_hot_encoded</th>\n",
       "    </tr>\n",
       "  </thead>\n",
       "  <tbody>\n",
       "    <tr>\n",
       "      <th>0</th>\n",
       "      <td>[EU, rejects, German, call, to, boycott, Briti...</td>\n",
       "      <td>[1, 1, 1, 0, 1, 1, 1, 0, 1]</td>\n",
       "      <td>[1, 4, 3, 1, 4, 4, 3, 1, 4]</td>\n",
       "      <td>[[1, 1, 1, 1], [1, 0, 0, 0], [0, 0, 0, 1], [0,...</td>\n",
       "    </tr>\n",
       "    <tr>\n",
       "      <th>1</th>\n",
       "      <td>[Peter, Blackburn]</td>\n",
       "      <td>[1, 0]</td>\n",
       "      <td>[1, 1]</td>\n",
       "      <td>[[1, 1, 1, 1], [1, 0, 0, 0], [1, 0, 0, 0]]</td>\n",
       "    </tr>\n",
       "    <tr>\n",
       "      <th>2</th>\n",
       "      <td>[BRUSSELS, 1996-08-22]</td>\n",
       "      <td>[1, 0]</td>\n",
       "      <td>[1, 4]</td>\n",
       "      <td>[[1, 1, 1, 1], [1, 0, 0, 0], [0, 0, 0, 1]]</td>\n",
       "    </tr>\n",
       "    <tr>\n",
       "      <th>3</th>\n",
       "      <td>[The, European, Commission, said, on, Thursday...</td>\n",
       "      <td>[1, 0, 0, 1, 1, 1, 1, 1, 1, 1, 0, 1, 1, 1, 1, ...</td>\n",
       "      <td>[2, 1, 1, 4, 4, 1, 4, 4, 4, 3, 1, 4, 1, 4, 4, ...</td>\n",
       "      <td>[[1, 1, 1, 1], [0, 1, 0, 0], [1, 0, 0, 0], [1,...</td>\n",
       "    </tr>\n",
       "    <tr>\n",
       "      <th>4</th>\n",
       "      <td>[Germany, 's, representative, to, the, Europea...</td>\n",
       "      <td>[1, 1, 0, 1, 1, 0, 0, 1, 0, 0, 0, 0, 1, 1, 1, ...</td>\n",
       "      <td>[1, 4, 1, 4, 2, 1, 1, 4, 3, 1, 1, 1, 4, 4, 1, ...</td>\n",
       "      <td>[[1, 1, 1, 1], [1, 0, 0, 0], [0, 0, 0, 1], [1,...</td>\n",
       "    </tr>\n",
       "    <tr>\n",
       "      <th>...</th>\n",
       "      <td>...</td>\n",
       "      <td>...</td>\n",
       "      <td>...</td>\n",
       "      <td>...</td>\n",
       "    </tr>\n",
       "    <tr>\n",
       "      <th>14036</th>\n",
       "      <td>[on, Friday, :]</td>\n",
       "      <td>[1, 1, 1]</td>\n",
       "      <td>[4, 1, 4]</td>\n",
       "      <td>[[1, 1, 1, 1], [0, 0, 0, 1], [1, 0, 0, 0], [0,...</td>\n",
       "    </tr>\n",
       "    <tr>\n",
       "      <th>14037</th>\n",
       "      <td>[Division, two]</td>\n",
       "      <td>[1, 0]</td>\n",
       "      <td>[1, 4]</td>\n",
       "      <td>[[1, 1, 1, 1], [1, 0, 0, 0], [0, 0, 0, 1]]</td>\n",
       "    </tr>\n",
       "    <tr>\n",
       "      <th>14038</th>\n",
       "      <td>[Plymouth, 2, Preston, 1]</td>\n",
       "      <td>[1, 0, 0, 0]</td>\n",
       "      <td>[1, 4, 1, 4]</td>\n",
       "      <td>[[1, 1, 1, 1], [1, 0, 0, 0], [0, 0, 0, 1], [1,...</td>\n",
       "    </tr>\n",
       "    <tr>\n",
       "      <th>14039</th>\n",
       "      <td>[Division, three]</td>\n",
       "      <td>[1, 0]</td>\n",
       "      <td>[1, 4]</td>\n",
       "      <td>[[1, 1, 1, 1], [1, 0, 0, 0], [0, 0, 0, 1]]</td>\n",
       "    </tr>\n",
       "    <tr>\n",
       "      <th>14040</th>\n",
       "      <td>[Swansea, 1, Lincoln, 2]</td>\n",
       "      <td>[1, 0, 0, 0]</td>\n",
       "      <td>[1, 4, 1, 4]</td>\n",
       "      <td>[[1, 1, 1, 1], [1, 0, 0, 0], [0, 0, 0, 1], [1,...</td>\n",
       "    </tr>\n",
       "  </tbody>\n",
       "</table>\n",
       "<p>14041 rows × 4 columns</p>\n",
       "</div>"
      ],
      "text/plain": [
       "                                                  tokens  \\\n",
       "0      [EU, rejects, German, call, to, boycott, Briti...   \n",
       "1                                     [Peter, Blackburn]   \n",
       "2                                 [BRUSSELS, 1996-08-22]   \n",
       "3      [The, European, Commission, said, on, Thursday...   \n",
       "4      [Germany, 's, representative, to, the, Europea...   \n",
       "...                                                  ...   \n",
       "14036                                    [on, Friday, :]   \n",
       "14037                                    [Division, two]   \n",
       "14038                          [Plymouth, 2, Preston, 1]   \n",
       "14039                                  [Division, three]   \n",
       "14040                           [Swansea, 1, Lincoln, 2]   \n",
       "\n",
       "                                              chunk_tags  \\\n",
       "0                            [1, 1, 1, 0, 1, 1, 1, 0, 1]   \n",
       "1                                                 [1, 0]   \n",
       "2                                                 [1, 0]   \n",
       "3      [1, 0, 0, 1, 1, 1, 1, 1, 1, 1, 0, 1, 1, 1, 1, ...   \n",
       "4      [1, 1, 0, 1, 1, 0, 0, 1, 0, 0, 0, 0, 1, 1, 1, ...   \n",
       "...                                                  ...   \n",
       "14036                                          [1, 1, 1]   \n",
       "14037                                             [1, 0]   \n",
       "14038                                       [1, 0, 0, 0]   \n",
       "14039                                             [1, 0]   \n",
       "14040                                       [1, 0, 0, 0]   \n",
       "\n",
       "                                                pos_tags  \\\n",
       "0                            [1, 4, 3, 1, 4, 4, 3, 1, 4]   \n",
       "1                                                 [1, 1]   \n",
       "2                                                 [1, 4]   \n",
       "3      [2, 1, 1, 4, 4, 1, 4, 4, 4, 3, 1, 4, 1, 4, 4, ...   \n",
       "4      [1, 4, 1, 4, 2, 1, 1, 4, 3, 1, 1, 1, 4, 4, 1, ...   \n",
       "...                                                  ...   \n",
       "14036                                          [4, 1, 4]   \n",
       "14037                                             [1, 4]   \n",
       "14038                                       [1, 4, 1, 4]   \n",
       "14039                                             [1, 4]   \n",
       "14040                                       [1, 4, 1, 4]   \n",
       "\n",
       "                                    pos_tags_hot_encoded  \n",
       "0      [[1, 1, 1, 1], [1, 0, 0, 0], [0, 0, 0, 1], [0,...  \n",
       "1             [[1, 1, 1, 1], [1, 0, 0, 0], [1, 0, 0, 0]]  \n",
       "2             [[1, 1, 1, 1], [1, 0, 0, 0], [0, 0, 0, 1]]  \n",
       "3      [[1, 1, 1, 1], [0, 1, 0, 0], [1, 0, 0, 0], [1,...  \n",
       "4      [[1, 1, 1, 1], [1, 0, 0, 0], [0, 0, 0, 1], [1,...  \n",
       "...                                                  ...  \n",
       "14036  [[1, 1, 1, 1], [0, 0, 0, 1], [1, 0, 0, 0], [0,...  \n",
       "14037         [[1, 1, 1, 1], [1, 0, 0, 0], [0, 0, 0, 1]]  \n",
       "14038  [[1, 1, 1, 1], [1, 0, 0, 0], [0, 0, 0, 1], [1,...  \n",
       "14039         [[1, 1, 1, 1], [1, 0, 0, 0], [0, 0, 0, 1]]  \n",
       "14040  [[1, 1, 1, 1], [1, 0, 0, 0], [0, 0, 0, 1], [1,...  \n",
       "\n",
       "[14041 rows x 4 columns]"
      ]
     },
     "execution_count": 283,
     "metadata": {},
     "output_type": "execute_result"
    }
   ],
   "source": [
    "df=dftrain\n",
    "df"
   ]
  },
  {
   "cell_type": "code",
   "execution_count": 291,
   "id": "c35ee94f",
   "metadata": {},
   "outputs": [
    {
     "name": "stdout",
     "output_type": "stream",
     "text": [
      "[1, 1, 1, 0, 0, 1, 1]\n",
      "[1, 4, 4, 4, 4, 4, 4]\n",
      "['EU', 'rejects', 'German', 'call', 'to', 'boycott', 'British', 'lamb', '.']\n"
     ]
    },
    {
     "data": {
      "text/plain": [
       "[1, 0, 1, 1, 1, 0, 1, 1, 1, 0, 1, 1, 1, 1, 1, 1, 1, 1, 0, 0, 1]"
      ]
     },
     "execution_count": 291,
     "metadata": {},
     "output_type": "execute_result"
    }
   ],
   "source": [
    "print(df['chunk_tags'][5000])\n",
    "print(df['pos_tags'][5000])\n",
    "print(df['tokens'][0])\n",
    "[1, 0, 1, 1, 1, 0, 1, 1, 1, 0, 1, 1, 1, 1, 1, 1, 1, 1, 0, 0, 1]"
   ]
  },
  {
   "cell_type": "code",
   "execution_count": 255,
   "id": "bd17264b",
   "metadata": {},
   "outputs": [],
   "source": [
    "def preprocess(df):\n",
    "    replacement_map = {\n",
    "        1: [1, 0, 0, 0],\n",
    "        2: [0, 1, 0, 0],\n",
    "        3: [0, 0, 1, 0],\n",
    "        4: [0, 0, 0, 1]\n",
    "        # Add more mappings as needed\n",
    "    }\n",
    "    k=[[replacement_map.get(x, [0, 0, 0, 0]) for x in sublist] for sublist in df['pos_tags']]\n",
    "    insert_list = [1, 1,1,1]\n",
    "    updated_list = [[insert_list]+sublist for sublist in k]  \n",
    "    df['pos_tags_hot_encoded']=updated_list\n",
    "    X=np.array(df['pos_tags_hot_encoded'])\n",
    "    X=X.reshape(X.shape[0],1)\n",
    "    return X"
   ]
  },
  {
   "cell_type": "code",
   "execution_count": 256,
   "id": "0cb5523a",
   "metadata": {},
   "outputs": [],
   "source": [
    "X=preprocess(df)\n",
    "\n",
    "k=np.array(df['chunk_tags'])\n",
    "Y=k.reshape(k.shape[0],1)"
   ]
  },
  {
   "cell_type": "code",
   "execution_count": 257,
   "id": "99266cab",
   "metadata": {},
   "outputs": [],
   "source": [
    "def new_x(X):\n",
    "    k={}\n",
    "    k[\"pos_tags\"]=[X]\n",
    "    df = pd.DataFrame(k)\n",
    "    return df\n",
    "    "
   ]
  },
  {
   "cell_type": "code",
   "execution_count": null,
   "id": "5dcbe42e",
   "metadata": {},
   "outputs": [],
   "source": [
    "import spacy\n",
    "\n",
    "def convert_to_pos_tags(sentence):\n",
    "    # Load the English language model in spaCy\n",
    "    nlp = spacy.load(\"en_core_web_sm\")\n",
    "    \n",
    "    # Process the input sentence using spaCy\n",
    "    doc = nlp(sentence)\n",
    "    \n",
    "    # Map POS tags to the given numeric values\n",
    "    converted_tags = []\n",
    "    for token in doc:\n",
    "        if token.tag_.startswith('NN'):  # If the tag starts with 'NN', it's a noun\n",
    "            converted_tags.append(1)\n",
    "        elif token.tag_.startswith('DT'):  # If the tag starts with 'DT', it's a determiner\n",
    "            converted_tags.append(2)\n",
    "        elif token.tag_.startswith('JJ'):  # If the tag starts with 'JJ', it's an adjective\n",
    "            converted_tags.append(3)\n",
    "        else:\n",
    "            converted_tags.append(4)  # Assign 4 for other POS tags\n",
    "    \n",
    "    return converted_tags\n",
    "\n",
    "# Example usage\n",
    "sentence = \"Boys play joyfully with brown balls in the green big field\"\n",
    "pos_tags = convert_to_pos_tags(sentence)\n",
    "print(pos_tags)\n",
    "\n"
   ]
  },
  {
   "cell_type": "code",
   "execution_count": 203,
   "id": "e5a3630c",
   "metadata": {},
   "outputs": [],
   "source": [
    "def sigmoid(X):\n",
    "     return 1/(1+np.exp(-X))\n",
    "def sigmoid_derivative(x):\n",
    "        return np.multiply(x,(1-x))"
   ]
  },
  {
   "cell_type": "code",
   "execution_count": 204,
   "id": "216ce0fd",
   "metadata": {},
   "outputs": [],
   "source": [
    "def perceptron(a_prev,x,Wax,Wya,b):\n",
    "    a_curr=sigmoid(np.dot(x.T,Wax)+np.dot(a_prev,Wya)+b)\n",
    "    return a_curr[0][0]"
   ]
  },
  {
   "cell_type": "code",
   "execution_count": 205,
   "id": "0aa123f3",
   "metadata": {},
   "outputs": [],
   "source": [
    "import random\n",
    "def intialize(seed_value=None):\n",
    "    random.seed(seed_value)\n",
    "    Wax=np.random.rand(8,1)\n",
    "    Wya=np.random.rand(1,1)\n",
    "    b=np.random.rand(1,1)\n",
    "    return Wax,Wya,b"
   ]
  },
  {
   "cell_type": "code",
   "execution_count": 206,
   "id": "5919d0dd",
   "metadata": {},
   "outputs": [],
   "source": [
    "def forward(X,Wax,Wya,b):\n",
    "    output=np.zeros((1,X.shape[0]-1))\n",
    "    out=0\n",
    "    for i in range(X.shape[0]-1):\n",
    "        k=X[i:i+2].reshape(8,1)\n",
    "        out=perceptron(out,k,Wax,Wya,b)\n",
    "        output[0,i]=out  \n",
    "    output=output[0]\n",
    "    return output,Wax,Wya,b "
   ]
  },
  {
   "cell_type": "code",
   "execution_count": 207,
   "id": "9a6664b9",
   "metadata": {},
   "outputs": [],
   "source": [
    "def loss(output,Y):\n",
    "    x=np.dot(-Y,np.log(output).T)-np.dot((1-Y),np.log(1-output).T)\n",
    "    return x/output.shape[0]"
   ]
  },
  {
   "cell_type": "code",
   "execution_count": 208,
   "id": "1c09cd3f",
   "metadata": {},
   "outputs": [],
   "source": [
    "\n",
    "Wax,Wya,b=intialize(0)\n"
   ]
  },
  {
   "cell_type": "code",
   "execution_count": 209,
   "id": "b628001e",
   "metadata": {},
   "outputs": [],
   "source": [
    "def rnn(X,Wax,Wya,b):\n",
    "    output=[]\n",
    "    for i in range(len(X)):\n",
    "        k=np.array(X[i][0])\n",
    "        out,Wax,Wya,b=forward(k,Wax,Wya,b)\n",
    "        output.append(out)\n",
    "        \n",
    "    return  output,Wax,Wya,b   \n",
    "        \n",
    "        "
   ]
  },
  {
   "cell_type": "code",
   "execution_count": 210,
   "id": "940e99e8",
   "metadata": {},
   "outputs": [],
   "source": [
    "output,Wax,Wya,b=rnn(X,Wax,Wya,b)"
   ]
  },
  {
   "cell_type": "code",
   "execution_count": 211,
   "id": "19eba38d",
   "metadata": {},
   "outputs": [
    {
     "data": {
      "text/plain": [
       "array([0.89345232, 0.89954687, 0.85825063, 0.90097669, 0.89983721,\n",
       "       0.89430673, 0.85797783, 0.90096628, 0.89983681])"
      ]
     },
     "execution_count": 211,
     "metadata": {},
     "output_type": "execute_result"
    }
   ],
   "source": [
    "output[0]"
   ]
  },
  {
   "cell_type": "code",
   "execution_count": 212,
   "id": "4c56a1bc",
   "metadata": {},
   "outputs": [],
   "source": [
    "def Cost(output,Y):\n",
    "    los=0\n",
    "    for i in range(len(Y)):\n",
    "        los=los+loss(output[i],np.array(Y[i][0]))\n",
    "    return los/len(Y)    \n",
    "        \n",
    "    "
   ]
  },
  {
   "cell_type": "code",
   "execution_count": 213,
   "id": "6e646bce",
   "metadata": {},
   "outputs": [
    {
     "data": {
      "text/plain": [
       "0.8872609191102911"
      ]
     },
     "execution_count": 213,
     "metadata": {},
     "output_type": "execute_result"
    }
   ],
   "source": [
    "Cost(output,Y)"
   ]
  },
  {
   "cell_type": "code",
   "execution_count": 214,
   "id": "6ce4818f",
   "metadata": {},
   "outputs": [],
   "source": [
    "def backpropagation(output,X,Y,Wax,Wya,b):\n",
    "    dl_dwya=0\n",
    "    dl_dwax=0\n",
    "    dl_db=0\n",
    "    for i in range(len(output)):\n",
    "        x=np.array(X[i][0])\n",
    "        o=output[i]\n",
    "        y_true=Y[i][0]\n",
    "        for j in range(len(o)):\n",
    "            k=x[j:j+2].reshape(8,1)\n",
    "            z=o[j]-y_true[j]\n",
    "            dl_db=dl_db+z\n",
    "            dl_dwax=dl_dwax+k*z\n",
    "            l=j-1\n",
    "            statemul=o[j]*(1-o[j])\n",
    "            while l>0:\n",
    "                statemul=statemul*o[l]*(1-o[l])\n",
    "                l=l-1\n",
    "            dl_dwya=dl_dwya+z*statemul       \n",
    "    return  dl_dwya/len(output),dl_dwax/len(output),dl_db/len(output)      \n",
    "                \n"
   ]
  },
  {
   "cell_type": "code",
   "execution_count": 215,
   "id": "1275a54f",
   "metadata": {},
   "outputs": [],
   "source": [
    "def update(alpha,dl_dwya,dl_dwax,dl_db,Wya,Wax,b):\n",
    "    Wya=Wya-alpha*dl_dwya\n",
    "    Wax=Wax-alpha*dl_dwax\n",
    "    b=b-alpha*dl_db\n",
    "    return Wya,Wax,b"
   ]
  },
  {
   "cell_type": "code",
   "execution_count": 216,
   "id": "ec22d186",
   "metadata": {},
   "outputs": [],
   "source": [
    "def train(X,Y,epoch,alpha,Wax,Wya,b):\n",
    "    error=[]\n",
    "    for i in range(epoch):\n",
    "        out,Wax,Wya,b=rnn(X,Wax,Wya,b)\n",
    "        error.append(Cost(out,Y))\n",
    "        print(Cost(out,Y))\n",
    "        dl_dwya,dl_dwax,dl_db=backpropagation(out,X,Y,Wax,Wya,b)\n",
    "        Wya,Wax,b=update(alpha,dl_dwya,dl_dwax,dl_db,Wya,Wax,b)\n",
    "    return error,Wya,Wax,b"
   ]
  },
  {
   "cell_type": "code",
   "execution_count": null,
   "id": "8e1d1662",
   "metadata": {},
   "outputs": [],
   "source": []
  },
  {
   "cell_type": "code",
   "execution_count": null,
   "id": "0a622ea5",
   "metadata": {
    "scrolled": true
   },
   "outputs": [],
   "source": []
  },
  {
   "cell_type": "code",
   "execution_count": null,
   "id": "b6dc19e1",
   "metadata": {},
   "outputs": [],
   "source": []
  },
  {
   "cell_type": "code",
   "execution_count": null,
   "id": "aaf898c0",
   "metadata": {},
   "outputs": [],
   "source": []
  },
  {
   "cell_type": "code",
   "execution_count": 251,
   "id": "91afccbc",
   "metadata": {},
   "outputs": [],
   "source": [
    "def prediction(X,Wax,Wya,b):\n",
    "    ans=[]\n",
    "    out,Wax,Wya,b=rnn(X,Wax,Wya,b)\n",
    "    for i in range(len(out)):\n",
    "        an=[]\n",
    "        yhat=(out[i])\n",
    "        for j in yhat:\n",
    "            if j>=0.5:\n",
    "                an.append(1)\n",
    "            else:\n",
    "                an.append(0)\n",
    "        ans.append(an)   \n",
    "    return ans    \n"
   ]
  },
  {
   "cell_type": "code",
   "execution_count": 249,
   "id": "e921953d",
   "metadata": {},
   "outputs": [],
   "source": [
    "ans=prediction(X,Wax,Wya,b)\n"
   ]
  },
  {
   "cell_type": "code",
   "execution_count": null,
   "id": "3428f52a",
   "metadata": {},
   "outputs": [],
   "source": [
    "\n"
   ]
  },
  {
   "cell_type": "code",
   "execution_count": 240,
   "id": "9a1baec2",
   "metadata": {},
   "outputs": [],
   "source": [
    "def accuracy(ans,Y):\n",
    "    j=0\n",
    "    for i in range(len(Y)):\n",
    "        if ans[i]==Y[i][0]:\n",
    "            j+=1\n",
    "    return (j/len(Y) )*100 "
   ]
  },
  {
   "cell_type": "code",
   "execution_count": 250,
   "id": "2cd80a3b",
   "metadata": {},
   "outputs": [
    {
     "data": {
      "text/plain": [
       "29.105125977410946"
      ]
     },
     "execution_count": 250,
     "metadata": {},
     "output_type": "execute_result"
    }
   ],
   "source": [
    "accuracy(ans,Y)"
   ]
  },
  {
   "cell_type": "code",
   "execution_count": 221,
   "id": "1ee73ec5",
   "metadata": {},
   "outputs": [],
   "source": [
    "class RNN:\n",
    "    def __init__(self,epoch,alpha):\n",
    "         self.epoch=epoch\n",
    "         self.alpha=alpha\n",
    "    def sigmoid(self,X):\n",
    "        return 1/(1+np.exp(-X))\n",
    "    def perceptron(self,a_prev,x,Wax,Wya,b):\n",
    "        a_curr=sigmoid(np.dot(x.T,Wax)+np.dot(a_prev,Wya)+b)\n",
    "        return a_curr[0][0]\n",
    "    def intialize(self,seed_value=None):\n",
    "        random.seed(seed_value)\n",
    "        Wax=np.random.standard_normal(8,1)\n",
    "        Wya=np.random.standard_normal(1,1)\n",
    "        b=np.random.standard_normal(1,1)\n",
    "        return Wax,Wya,b\n",
    "    def forward(self,X,Wax,Wya,b):\n",
    "        output=np.zeros((1,X.shape[0]-1))\n",
    "        out=0\n",
    "        for i in range(X.shape[0]-1):\n",
    "            k=X[i:i+2].reshape(8,1)\n",
    "            out=self.perceptron(out,k,Wax,Wya,b)\n",
    "            output[0,i]=out  \n",
    "        output=output[0]\n",
    "        return output,Wax,Wya,b  \n",
    "    def loss(self,output,Y):\n",
    "        x=np.dot(-Y,np.log(output).T)-np.dot((1-Y),np.log(1-output).T)\n",
    "        return x/output.shape[0]\n",
    "    def rnn(self,X,Wax,Wya,b):\n",
    "        output=[]\n",
    "        for i in range(len(X)):\n",
    "            k=np.array(X[i][0])\n",
    "            out,Wax,Wya,b=self.forward(k,Wax,Wya,b)\n",
    "            output.append(out)\n",
    "\n",
    "        return  output,Wax,Wya,b  \n",
    "    def Cost(self,output,Y):\n",
    "        los=0\n",
    "        for i in range(len(Y)):\n",
    "            los=los+self.loss(output[i],np.array(Y[i][0]))\n",
    "        return los/len(Y)    \n",
    "\n",
    "    def backpropagation(self,output,X,Y,Wax,Wya,b):\n",
    "        dl_dwya=0\n",
    "        dl_dwax=0\n",
    "        dl_db=0\n",
    "        for i in range(len(output)):\n",
    "            x=np.array(X[i][0])\n",
    "            o=output[i]\n",
    "            y_true=Y[i][0]\n",
    "            for j in range(len(o)):\n",
    "                k=x[j:j+2].reshape(8,1)\n",
    "                z=o[j]-y_true[j]\n",
    "                dl_db=dl_db+z\n",
    "                dl_dwax=dl_dwax+k*z\n",
    "                l=j-1\n",
    "                statemul=o[j]*(1-o[j])\n",
    "                while l>0:\n",
    "                    statemul=statemul*o[l]*(1-o[l])\n",
    "                    l=l-1\n",
    "                dl_dwya=dl_dwya+z*statemul       \n",
    "        return  dl_dwya/len(output),dl_dwax/len(output),dl_db/len(output) \n",
    "        def Cost(self,output,Y):\n",
    "            los=0\n",
    "            for i in range(len(Y)):\n",
    "                los=los+self.loss(output[i][0],np.array(Y[i][0]))\n",
    "            return los/len(Y)   \n",
    "    def update(self,alpha,dl_dwya,dl_dwax,dl_db,Wya,Wax,b):\n",
    "        Wya=Wya-alpha*dl_dwya\n",
    "        Wax=Wax-alpha*dl_dwax\n",
    "        b=b-alpha*dl_db\n",
    "        return Wya,Wax,b \n",
    "    def train(self,X,Y,epoch,alpha,Wax,Wya,b):\n",
    "        error=[]\n",
    "        accu=[]\n",
    "        for i in range(epoch):\n",
    "            out,Wax,Wya,b=self.rnn(X,Wax,Wya,b)\n",
    "            error.append(self.Cost(out,Y))\n",
    "            accu.append(self.accuracy_token(self.prediction(X,Wax,Wya,b),Y))\n",
    "            print(Cost(out,Y))\n",
    "            dl_dwya,dl_dwax,dl_db=self.backpropagation(out,X,Y,Wax,Wya,b)\n",
    "            Wya,Wax,b=self.update(alpha,dl_dwya,dl_dwax,dl_db,Wya,Wax,b)\n",
    "        return error,accu,Wya,Wax,b\n",
    "    def prediction(self,X,Wax,Wya,b):\n",
    "        ans=[]\n",
    "        out,Wax,Wya,b=self.rnn(X,Wax,Wya,b)\n",
    "        for i in range(len(out)):\n",
    "            an=[]\n",
    "            yhat=(out[i])\n",
    "            for j in yhat:\n",
    "                if j>=.5:\n",
    "                    an.append(1)\n",
    "                else:\n",
    "                    an.append(0)\n",
    "            ans.append(an)   \n",
    "        return ans  \n",
    "    def accuracy_token(self,ans,Y):\n",
    "        total=0\n",
    "        for i in range(len(Y)):\n",
    "            k=0\n",
    "            for j in range(len(ans[i])):\n",
    "                if ans[i][j]==Y[i][0][j]:\n",
    "                    k+=1\n",
    "                k=k/len(ans[i])  \n",
    "                total=total+k\n",
    "                \n",
    "        return (total/len(Y) )*100\n",
    "    def accuracy_seq(self,ans,Y):\n",
    "        j=0\n",
    "        for i in range(len(Y)):\n",
    "            if ans[i]==Y[i][0]:\n",
    "                j+=1\n",
    "        return (j/len(Y) )*100 \n",
    "    def rnnforward(self,X,Y):\n",
    "        Wax,Wya,b=intialize(4)\n",
    "        error,accu,Wya,Wax,b=self.train(X,Y,self.epoch,self.alpha,Wax,Wya,b)\n",
    "        k=np.arange(1,self.epoch+1)\n",
    "\n",
    "        plt.plot(k,error)\n",
    "    # plt.set_title(\"Error\")\n",
    "        plt.show()\n",
    "        return error,accu,Wya,Wax,b\n",
    "        \n",
    "        \n",
    "\n",
    "    \n",
    "        \n",
    "    "
   ]
  },
  {
   "cell_type": "code",
   "execution_count": 222,
   "id": "4d6b3979",
   "metadata": {},
   "outputs": [
    {
     "name": "stdout",
     "output_type": "stream",
     "text": [
      "[[0.42757807]]\n"
     ]
    }
   ],
   "source": [
    "rnnn=RNN(150,0.1)\n",
    "print(Wya)"
   ]
  },
  {
   "cell_type": "code",
   "execution_count": 223,
   "id": "a824119e",
   "metadata": {
    "scrolled": true
   },
   "outputs": [
    {
     "name": "stdout",
     "output_type": "stream",
     "text": [
      "0.7091012762817656\n",
      "0.6580446965105009\n",
      "0.6348327878766671\n",
      "0.6224765667833173\n",
      "0.6146794112733089\n",
      "0.6091991047004172\n",
      "0.6050764552377659\n",
      "0.6018159656361478\n",
      "0.5991272122634008\n",
      "0.596826942474369\n",
      "0.5947946717197611\n",
      "0.5929493925546979\n",
      "0.5912360187129132\n",
      "0.5896169327763078\n",
      "0.5880664778518334\n",
      "0.5865672636403503\n",
      "0.5851076414612172\n",
      "0.5836799553827013\n",
      "0.5822793196210866\n",
      "0.5809027583671321\n",
      "0.5795485981750932\n",
      "0.5782160379931117\n",
      "0.5769048450539741\n",
      "0.5756151404465099\n",
      "0.5743472488546132\n",
      "0.5731015943325356\n",
      "0.571878629146453\n",
      "0.5706787863536463\n",
      "0.5695024493793646\n",
      "0.5683499337059541\n",
      "0.5672214771249319\n",
      "0.5661172359700518\n",
      "0.5650372854541252\n",
      "0.5639816227468046\n",
      "0.5629501718072485\n",
      "0.561942789262621\n",
      "0.5609592708266627\n",
      "0.5599993579022022\n",
      "0.5590627441211753\n",
      "0.5581490816566853\n",
      "0.5572579871996703\n",
      "0.5563890475361354\n",
      "0.5555418246910381\n",
      "0.5547158606268157\n",
      "0.5539106815000086\n",
      "0.5531258014894269\n",
      "0.5523607262164867\n",
      "0.5516149557819892\n",
      "0.5508879874464501\n",
      "0.5501793179816777\n",
      "0.5494884457212271\n",
      "0.5488148723367723\n",
      "0.5481581043665589\n",
      "0.5475176545197844\n",
      "0.5468930427803521\n",
      "0.5462837973310065\n",
      "0.5456894553170241\n",
      "0.5451095634681301\n",
      "0.5445436785940435\n",
      "0.5439913679694535\n",
      "0.5434522096207266\n",
      "0.5429257925275894\n",
      "0.5424117167497774\n",
      "0.5419095934888248\n",
      "0.5414190450937245\n",
      "0.5409397050181832\n",
      "0.5404712177363307\n",
      "0.5400132386234031\n",
      "0.5395654338064132\n",
      "0.5391274799900764\n",
      "0.5386990642621182\n",
      "0.5382798838816303\n",
      "0.5378696460541069\n",
      "0.5374680676958593\n",
      "0.5370748751901772\n",
      "0.5366898041380777\n",
      "0.5363125991049431\n",
      "0.5359430133650613\n",
      "0.5355808086454676\n",
      "0.5352257548702462\n",
      "0.5348776299064752\n",
      "0.5345362193127235\n",
      "0.5342013160907058\n",
      "0.5338727204408455\n",
      "0.5335502395223195\n",
      "0.5332336872179985\n",
      "0.5329228839045189\n",
      "0.5326176562278466\n",
      "0.5323178368845818\n",
      "0.5320232644090717\n",
      "0.5317337829665378\n",
      "0.531449242152056\n",
      "0.531169496795801\n",
      "0.5308944067742158\n",
      "0.5306238368269037\n",
      "0.530357656380132\n",
      "0.530095739375409\n",
      "0.5298379641044108\n",
      "0.5295842130493613\n",
      "0.5293343727289178\n",
      "0.5290883335495804\n",
      "0.5288459896623343\n",
      "0.5286072388245461\n",
      "0.528371982266765\n",
      "0.5281401245644508\n",
      "0.5279115735144738\n",
      "0.5276862400161143\n",
      "0.5274640379566672\n",
      "0.5272448841010345\n",
      "0.5270286979859229\n",
      "0.5268154018176131\n",
      "0.5266049203739499\n",
      "0.5263971809097735\n",
      "0.5261921130662804\n",
      "0.5259896487835414\n",
      "0.5257897222166388\n",
      "0.5255922696548225\n",
      "0.5253972294439021\n",
      "0.525204541911621\n",
      "0.5250141492957754\n",
      "0.5248259956753276\n",
      "0.5246400269038731\n",
      "0.524456190546037\n",
      "0.5242744358159392\n",
      "0.5240947135184119\n",
      "0.5239169759920537\n",
      "0.5237411770549002\n",
      "0.523567271951865\n",
      "0.5233952173043536\n",
      "0.5232249710617882\n",
      "0.5230564924548856\n",
      "0.5228897419508938\n",
      "0.522724681210389\n",
      "0.5225612730457688\n",
      "0.5223994813813273\n",
      "0.5222392712148959\n",
      "0.5220806085808001\n",
      "0.5219234605142906\n",
      "0.521767795017468\n",
      "0.5216135810261122\n",
      "0.5214607883781415\n",
      "0.5213093877831002\n",
      "0.5211593507926814\n",
      "0.5210106497725017\n",
      "0.5208632578749123\n",
      "0.5207171490126621\n",
      "0.5205722978337536\n",
      "0.5204286796970536\n",
      "0.5202862706488781\n",
      "0.5201450474004098\n"
     ]
    },
    {
     "data": {
      "image/png": "[encoded data removed]",
      "text/plain": [
       "<Figure size 640x480 with 1 Axes>"
      ]
     },
     "metadata": {},
     "output_type": "display_data"
    }
   ],
   "source": [
    "error,accu,Wya,Wax,b=rnnn.rnnforward(X,Y)"
   ]
  },
  {
   "cell_type": "code",
   "execution_count": 260,
   "id": "ef6d2c68",
   "metadata": {
    "scrolled": true
   },
   "outputs": [
    {
     "name": "stdout",
     "output_type": "stream",
     "text": [
      "0.520004987305952\n",
      "0.5198660683420182\n",
      "0.5197282690870568\n",
      "0.5195915687019989\n",
      "0.5194559469115513\n",
      "0.5193213839860987\n",
      "0.5191878607241912\n",
      "0.5190553584357802\n",
      "0.5189238589260743\n",
      "0.5187933444797386\n",
      "0.5186637978459473\n",
      "0.5185352022237629\n",
      "0.5184075412480972\n",
      "0.5182807989762175\n",
      "0.5181549598745642\n",
      "0.5180300088062599\n",
      "0.517905931018841\n",
      "0.5177827121325411\n",
      "0.5176603381288439\n",
      "0.5175387953397137\n",
      "0.5174180704367953\n",
      "0.5172981504213061\n",
      "0.5171790226141076\n",
      "0.5170606746462404\n",
      "0.5169430944495976\n",
      "0.5168262702480653\n",
      "0.5167101905489336\n",
      "0.5165948441345488\n",
      "0.5164802200542472\n",
      "0.5163663076166077\n",
      "0.5162530963819213\n",
      "0.5161405761549259\n",
      "0.5160287369777218\n",
      "0.5159175691230501\n",
      "0.5158070630876626\n",
      "0.5156972095859804\n",
      "0.5155879995438458\n",
      "0.5154794240927025\n",
      "0.5153714745637326\n",
      "0.5152641424822132\n",
      "0.5151574195623031\n",
      "0.5150512977016293\n",
      "0.514945768976275\n",
      "0.5148408256358883\n",
      "0.5147364600989407\n",
      "0.5146326649480174\n",
      "0.5145294329254936\n",
      "0.514426756929194\n",
      "0.5143246300080805\n",
      "0.5142230453583564\n",
      "0.5141219963194132\n",
      "0.5140214763700564\n",
      "0.5139214791248544\n",
      "0.5138219983304839\n",
      "0.513723027862342\n",
      "0.5136245617210731\n",
      "0.5135265940293974\n",
      "0.5134291190288232\n",
      "0.5133321310767901\n",
      "0.5132356246434229\n",
      "0.5131395943088308\n",
      "0.5130440347602057\n",
      "0.512948940789151\n",
      "0.5128543072889726\n",
      "0.5127601292522013\n",
      "0.5126664017680275\n",
      "0.512573120019877\n",
      "0.5124802792831699\n",
      "0.5123878749229195\n",
      "0.512295902391526\n",
      "0.5122043572267146\n",
      "0.5121132350493722\n",
      "0.5120225315615179\n",
      "0.5119322425443696\n",
      "0.5118423638564036\n",
      "0.5117528914314814\n",
      "0.5116638212770793\n",
      "0.5115751494724712\n",
      "0.5114868721670474\n",
      "0.5113989855787064\n",
      "0.5113114859921087\n",
      "0.5112243697572373\n",
      "0.5111376332877988\n",
      "0.5110512730597075\n",
      "0.5109652856097749\n",
      "0.5108796675341245\n",
      "0.5107944154869543\n",
      "0.5107095261791341\n",
      "0.5106249963769856\n",
      "0.5105408229008846\n",
      "0.510457002624191\n",
      "0.5103735324720103\n",
      "0.5102904094199086\n",
      "0.5102076304929445\n",
      "0.5101251927645185\n",
      "0.5100430933552113\n",
      "0.5099613294319078\n",
      "0.5098798982065766\n",
      "0.5097987969354683\n",
      "0.5097180229180085\n"
     ]
    }
   ],
   "source": [
    "error,Wya,Wax,b=train(X,Y,100,0.1,Wax,Wya,b)\n"
   ]
  },
  {
   "cell_type": "code",
   "execution_count": 224,
   "id": "950fe9f8",
   "metadata": {
    "scrolled": true
   },
   "outputs": [
    {
     "data": {
      "text/plain": [
       "[<matplotlib.lines.Line2D at 0x21d9b555610>]"
      ]
     },
     "execution_count": 224,
     "metadata": {},
     "output_type": "execute_result"
    },
    {
     "data": {
      "image/png": "[encoded data removed]",
      "text/plain": [
       "<Figure size 640x480 with 1 Axes>"
      ]
     },
     "metadata": {},
     "output_type": "display_data"
    }
   ],
   "source": [
    "# error,Wya,Wax,b=train(X,Y,100,0.1,Wax,Wya,b)\n",
    "k=np.arange(1,150+1)\n",
    "plt.plot(k,accu)"
   ]
  },
  {
   "cell_type": "markdown",
   "id": "06a2d59b",
   "metadata": {},
   "source": [
    "# Best Weights"
   ]
  },
  {
   "cell_type": "code",
   "execution_count": 261,
   "id": "28298035",
   "metadata": {},
   "outputs": [
    {
     "name": "stdout",
     "output_type": "stream",
     "text": [
      "[[ 2.25685663]\n",
      " [ 0.03192519]\n",
      " [ 0.96986717]\n",
      " [ 3.32325623]\n",
      " [-1.70253729]\n",
      " [ 1.66425283]\n",
      " [-0.97015153]\n",
      " [ 0.77813112]]\n",
      "[[0.25050293]]\n",
      "[[-1.79040026]]\n"
     ]
    }
   ],
   "source": [
    "print(Wax)\n",
    "print(Wya)\n",
    "print(b)"
   ]
  },
  {
   "cell_type": "code",
   "execution_count": 265,
   "id": "abe98caf",
   "metadata": {},
   "outputs": [],
   "source": [
    "Wax=np.array([[ 1.5234745 ],\n",
    " [-0.03025682],\n",
    " [ 0.53068704],\n",
    " [ 2.52354128],\n",
    " [-1.41983243],\n",
    " [ 1.33864204],\n",
    " [-0.6169723 ],\n",
    " [ 0.99901114]])\n",
    "Wya=np.array([[0.38309115]])\n",
    "b=np.array([[-1.34831732]])"
   ]
  },
  {
   "cell_type": "code",
   "execution_count": 266,
   "id": "76c5ec6e",
   "metadata": {},
   "outputs": [
    {
     "name": "stdout",
     "output_type": "stream",
     "text": [
      "89.34503541481091\n",
      "31.415141371697175\n"
     ]
    }
   ],
   "source": [
    "ans=prediction(X,Wax,Wya,b)\n",
    "print(rnnn.accuracy_token(ans,Y))\n",
    "print(rnnn.accuracy_seq(ans,Y))"
   ]
  },
  {
   "cell_type": "markdown",
   "id": "a9be1b1e",
   "metadata": {},
   "source": [
    "# Prediction"
   ]
  },
  {
   "cell_type": "code",
   "execution_count": 311,
   "id": "92d17494",
   "metadata": {},
   "outputs": [
    {
     "name": "stdout",
     "output_type": "stream",
     "text": [
      "[1, 0, 0]\n"
     ]
    }
   ],
   "source": [
    "sentence=\"The blue eyes\"\n",
    "x=convert_to_pos_tags(sentence)\n",
    "# x=[1, 4, 4, 4, 4, 4, 4]\n",
    "x=new_x(x)\n",
    "x=preprocess(x)\n",
    "k=prediction(x,Wax,Wya,b)\n",
    "print(k[0])\n"
   ]
  },
  {
   "cell_type": "markdown",
   "id": "712db799",
   "metadata": {},
   "source": [
    "# 5 Fold Validation"
   ]
  },
  {
   "cell_type": "code",
   "execution_count": 268,
   "id": "0dfbfaeb",
   "metadata": {},
   "outputs": [
    {
     "name": "stdout",
     "output_type": "stream",
     "text": [
      "86.17407120243395\n",
      "29.105125977410946\n"
     ]
    }
   ],
   "source": [
    "df=dftest\n",
    "X=preprocess(df)\n",
    "k=np.array(df['chunk_tags'])\n",
    "Y=k.reshape(k.shape[0],1)\n",
    "ans=rnnn.prediction(X,Wax,Wya,b)\n",
    "print(rnnn.accuracy_token(ans,Y))\n",
    "print(rnnn.accuracy_seq(ans,Y))"
   ]
  },
  {
   "cell_type": "code",
   "execution_count": null,
   "id": "c78917f9",
   "metadata": {},
   "outputs": [],
   "source": []
  },
  {
   "cell_type": "code",
   "execution_count": null,
   "id": "053ad566",
   "metadata": {},
   "outputs": [],
   "source": []
  },
  {
   "cell_type": "code",
   "execution_count": null,
   "id": "17693bc4",
   "metadata": {},
   "outputs": [],
   "source": [
    "from sklearn.model_selection import KFold\n",
    "\n",
    "# Assuming X_train and y_train are your training data and labels\n",
    "kf = KFold(n_splits=5, shuffle=True, random_state=42)  # Initialize 5-fold cross-validation\n",
    "\n",
    "for fold, (train_index, val_index) in enumerate(kf.split(X_train)):\n",
    "    X_train_fold, X_val_fold = X_train[train_index], X_train[val_index]  # Split data into train and validation sets\n",
    "    y_train_fold, y_val_fold = y_train[train_index], y_train[val_index]  # Split labels into train and validation sets\n",
    "\n"
   ]
  },
  {
   "cell_type": "markdown",
   "id": "63122626",
   "metadata": {},
   "source": [
    "# Metrices"
   ]
  },
  {
   "cell_type": "code",
   "execution_count": 269,
   "id": "dd169980",
   "metadata": {},
   "outputs": [
    {
     "name": "stdout",
     "output_type": "stream",
     "text": [
      "Precision: 1.0\n"
     ]
    }
   ],
   "source": [
    "import numpy as np\n",
    "from nltk.metrics.distance import edit_distance\n",
    "\n",
    "Y_true = [sublist[0] for sublist in Y]\n",
    "Y_true\n",
    "\n",
    "def precision_score(y_true, y_pred):\n",
    "    true_positives = 0\n",
    "    false_positives = 0\n",
    "    for true_seq, pred_seq in zip(y_true, y_pred):\n",
    "        # Calculate Levenshtein distance between true and predicted sequences\n",
    "        distance = edit_distance(true_seq, pred_seq)\n",
    "        # Define a threshold for similarity (e.g., 90% similarity)\n",
    "        similarity_threshold = 0.9\n",
    "        if distance / max(len(true_seq), len(pred_seq)) <= similarity_threshold:\n",
    "            true_positives += 1\n",
    "        else:\n",
    "            false_positives += 1\n",
    "    precision = true_positives / (true_positives + false_positives)\n",
    "    return precision\n",
    "\n",
    "# Example usage\n",
    "\n",
    "precision = precision_score(Y_true, ans)\n",
    "print(\"Precision:\", precision)"
   ]
  },
  {
   "cell_type": "code",
   "execution_count": 270,
   "id": "f0a2c55c",
   "metadata": {},
   "outputs": [
    {
     "name": "stdout",
     "output_type": "stream",
     "text": [
      "f1score: 0.29105125977410945\n"
     ]
    }
   ],
   "source": [
    "\n",
    "def f1_score(y_true, y_pred):\n",
    "    true_positives = 0\n",
    "    false_positives = 0\n",
    "    false_negatives = 0\n",
    "    for true_seq, pred_seq in zip(y_true, y_pred):\n",
    "        true_seq = ''.join(map(str, true_seq))  # Convert true sequence to string\n",
    "        pred_seq = ''.join(map(str, pred_seq))  # Convert predicted sequence to string\n",
    "        distance = edit_distance(true_seq, pred_seq)\n",
    "        if distance == 0:  # Exact match\n",
    "            true_positives += 1\n",
    "        else:\n",
    "            false_positives += 1\n",
    "            false_negatives += 1\n",
    "    precision = true_positives / (true_positives + false_positives)\n",
    "    recall = true_positives / (true_positives + false_negatives)\n",
    "    f1 = 2 * (precision * recall) / (precision + recall) if (precision + recall) > 0 else 0\n",
    "    return f1\n",
    "f1score = f1_score(Y_true, ans)\n",
    "print(\"f1score:\", f1score)"
   ]
  },
  {
   "cell_type": "code",
   "execution_count": 271,
   "id": "f339359a",
   "metadata": {},
   "outputs": [
    {
     "data": {
      "text/plain": [
       "0.29105125977410945"
      ]
     },
     "execution_count": 271,
     "metadata": {},
     "output_type": "execute_result"
    }
   ],
   "source": [
    "def recall_score_sequence(y_true, y_pred):\n",
    "    true_positives = 0\n",
    "    false_negatives = 0\n",
    "    for true_seq, pred_seq in zip(y_true, y_pred):\n",
    "        true_seq = ''.join(map(str, true_seq))  # Convert true sequence to string\n",
    "        pred_seq = ''.join(map(str, pred_seq))  # Convert predicted sequence to string\n",
    "        distance = edit_distance(true_seq, pred_seq)\n",
    "        if distance == 0:  # Exact match\n",
    "            true_positives += 1\n",
    "        else:\n",
    "            false_negatives += 1\n",
    "    recall = true_positives / (true_positives + false_negatives) if (true_positives + false_negatives) > 0 else 0\n",
    "    return recall\n",
    "recall_score_sequence(Y_true, ans)"
   ]
  },
  {
   "cell_type": "code",
   "execution_count": 309,
   "id": "1858879b",
   "metadata": {},
   "outputs": [
    {
     "name": "stdout",
     "output_type": "stream",
     "text": [
      "[1, 4, 4, 4, 3, 1, 4, 2, 3, 3, 1]\n"
     ]
    }
   ],
   "source": [
    "\n"
   ]
  },
  {
   "cell_type": "code",
   "execution_count": null,
   "id": "471ac8e2",
   "metadata": {},
   "outputs": [],
   "source": []
  },
  {
   "cell_type": "code",
   "execution_count": null,
   "id": "f386b8e7",
   "metadata": {},
   "outputs": [],
   "source": []
  }
 ],
 "metadata": {
  "kernelspec": {
   "display_name": "Python 3 (ipykernel)",
   "language": "python",
   "name": "python3"
  },
  "language_info": {
   "codemirror_mode": {
    "name": "ipython",
    "version": 3
   },
   "file_extension": ".py",
   "mimetype": "text/x-python",
   "name": "python",
   "nbconvert_exporter": "python",
   "pygments_lexer": "ipython3",
   "version": "3.11.4"
  }
 },
 "nbformat": 4,
 "nbformat_minor": 5
}
